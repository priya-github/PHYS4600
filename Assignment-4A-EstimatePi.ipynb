{
 "cells": [
  {
   "cell_type": "markdown",
   "metadata": {},
   "source": [
    "### Priya Gopal : Solutions to Assignment 4A\n",
    "#### 1. Problem : Estimation of Pi or the area of a unitary circle (R=1) using Monte Carlo \"hit or miss\" algorithm\n",
    "\n",
    "As discussed in the handout, we can estimate $\\pi$ using a simple dart throwing exercise, the Probability of the dart landing inside the circle  divided by the total number gives an estimate of $\\pi$. We can do a simple one time exercise or we can use a function to define this for arbitrary dimension and trials. \n",
    "\n",
    "I am using numpy.random.rand() as a a random number generator for generating floats between [0,1]. I am choosing my circle with Radius = 1,\n",
    "\n",
    "This is for the MC \n",
    "\n"
   ]
  },
  {
   "cell_type": "code",
   "execution_count": 3,
   "metadata": {},
   "outputs": [
    {
     "data": {
      "text/plain": [
       "[<matplotlib.lines.Line2D at 0x111c1f850>]"
      ]
     },
     "execution_count": 3,
     "metadata": {},
     "output_type": "execute_result"
    },
    {
     "data": {
      "image/png": "[encoded data removed]",
      "text/plain": [
       "<Figure size 432x288 with 1 Axes>"
      ]
     },
     "metadata": {
      "needs_background": "light"
     },
     "output_type": "display_data"
    }
   ],
   "source": [
    "#Simple program no animation\n",
    "from __future__ import division\n",
    "from random import random\n",
    "import math\n",
    "import numpy as np\n",
    "import matplotlib.pyplot as plt\n",
    "% matplotlib inline\n",
    "#Define the Monte Carlo function as no of trials\n",
    "def MonteCarloPi(Ndarts,plot=False): #set to True if you want the plots!\n",
    "    N_inside=0.0 \n",
    "    pi_est=0.0\n",
    "    xin = []  # coordinates inside and outside the box\n",
    "    xout = []\n",
    "    yin = []\n",
    "    yout = []\n",
    "    for i in range(1,Ndarts):\n",
    "    #Generate random nos between [0,1] for x and y coordinates (2D)\n",
    "        x=np.random.rand()\n",
    "        y=np.random.rand()\n",
    "    # Condition for the dart to lie inside the circle (x**2 + y**2 < R**2) (R=1)\n",
    "        if (x**2+y**2<=1):\n",
    "            N_inside=N_inside+1\n",
    "            xin.append(x)\n",
    "            yin.append(y)\n",
    "        else:\n",
    "            xout.append(x)\n",
    "            yout.append(y)\n",
    "    pi_est=float(4.0*N_inside/Ndarts)  \n",
    "    if (plot==True):\n",
    "        fig, ax = plt.subplots(1)\n",
    "        ax.scatter(xin, yin, c='g')\n",
    "        ax.scatter(xout, yout, c='r')\n",
    "        ax.set_aspect('equal')\n",
    "        fig.show()\n",
    "\n",
    "\n",
    "    return (pi_est)\n",
    "\n",
    "#MonteCarloPi(1000) # Returns a value of Pi for given trials\n",
    "# For checking the error, get the estimate for different Ntrial values and plot the relative error \n",
    "\n",
    "N=np.logspace(1.0,4.0,num=20)\n",
    "pierr=[]\n",
    "for i in range(len(N)):\n",
    "    pierr.append(((MonteCarloPi(int(N[i]),False))-np.pi)/np.pi)\n",
    "#print pierr\n",
    "plt.plot(N,pierr)   "
   ]
  },
  {
   "cell_type": "markdown",
   "metadata": {},
   "source": [
    "As N trials increases, you see the relative error go down"
   ]
  },
  {
   "cell_type": "code",
   "execution_count": 12,
   "metadata": {},
   "outputs": [
    {
     "data": {
      "image/png": "[encoded data removed]",
      "text/plain": [
       "<Figure size 432x288 with 1 Axes>"
      ]
     },
     "metadata": {
      "needs_background": "light"
     },
     "output_type": "display_data"
    }
   ],
   "source": [
    "# Task 2: How about averaging over multiple N trials? Histogram!\n",
    "from __future__ import division\n",
    "from random import random\n",
    "import math\n",
    "import numpy as np\n",
    "import matplotlib.pyplot as plt\n",
    "% matplotlib inline\n",
    "\n",
    "def MonteCarloPi(Ndarts,plot=False): #set to True if you want the plots!\n",
    "    N_inside=0.0 \n",
    "    pi_est=0.0\n",
    "    xin = []  # coordinates inside and outside the box\n",
    "    xout = []\n",
    "    yin = []\n",
    "    yout = []\n",
    "    for i in range(1,Ndarts):\n",
    "    #Generate random nos between [0,1] for x and y coordinates (2D)\n",
    "        x=np.random.rand()\n",
    "        y=np.random.rand()\n",
    "    # Condition for the dart to lie inside the circle (x**2 + y**2 < R**2) (R=1)\n",
    "        if (x**2+y**2<=1):\n",
    "            N_inside=N_inside+1\n",
    "            xin.append(x)\n",
    "            yin.append(y)\n",
    "        else:\n",
    "            xout.append(x)\n",
    "            yout.append(y)\n",
    "    pi_est=float(4.0*N_inside/Ndarts)  \n",
    "    if (plot==True):\n",
    "        fig, ax = plt.subplots(1)\n",
    "        ax.scatter(xin, yin, c='g')\n",
    "        ax.scatter(xout, yout, c='r')\n",
    "        ax.set_aspect('equal')\n",
    "        fig.show()\n",
    "\n",
    "\n",
    "    return (pi_est)\n",
    "\n",
    "pihistogram=[]\n",
    "iter=1\n",
    "while iter<1000:\n",
    "        \n",
    "        piapprox=(MonteCarloPi(1000,False))\n",
    "        pihistogram.append(piapprox)\n",
    "        iter=iter+1\n",
    "        #print(pihistogram)\n",
    "plt.figure(2)    \n",
    "n, bins, patches = plt.hist(pihistogram, 10, facecolor='g', alpha=0.5)\n",
    "#n, bins, patches = plt.hist(x, 1000, normed=1,facecolor='g', alpha=0.5)\n",
    "plt.xlabel('Value')\n",
    "plt.ylabel('Number')\n",
    "plt.title('Histogram of values')\n",
    "plt.grid(True)\n",
    "plt.show()"
   ]
  },
  {
   "cell_type": "markdown",
   "metadata": {},
   "source": [
    "As we increase both the averaging over Ntrials, we see that the histogram is peaked at the closer value of 3.14.\n",
    "This is the essence of statistical averaging, Iterate over the Nsteps over and over and average them"
   ]
  },
  {
   "cell_type": "markdown",
   "metadata": {},
   "source": [
    "Task3: Dynamic plotting of the MonteCarlo Pi was tougher than expected. In my case, it was generating multiple graphs over steps. We want an animated plot\n",
    "    and this failed in jupyter notebook. I will try to fix this. But a good exercise would be to try in VPython.\n",
    "    \n"
   ]
  },
  {
   "cell_type": "code",
   "execution_count": null,
   "metadata": {},
   "outputs": [],
   "source": []
  }
 ],
 "metadata": {
  "kernelspec": {
   "display_name": "Python 2",
   "language": "python",
   "name": "python2"
  },
  "language_info": {
   "codemirror_mode": {
    "name": "ipython",
    "version": 2
   },
   "file_extension": ".py",
   "mimetype": "text/x-python",
   "name": "python",
   "nbconvert_exporter": "python",
   "pygments_lexer": "ipython2",
   "version": "2.7.15"
  }
 },
 "nbformat": 4,
 "nbformat_minor": 2
}
