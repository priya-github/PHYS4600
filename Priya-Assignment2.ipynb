{
 "cells": [
  {
   "cell_type": "markdown",
   "metadata": {},
   "source": [
    "# Handout 2 : Projectile Motion (1D and 2D)\n",
    "## Priya Gopal \n",
    "\n",
    "Task:\n",
    "Plot the position of an object vs time launched vertically with an initial velocity and neglecting air resistance.\n",
    "\n",
    "Solution: This program will use simple 1D kinemetic equations to calculate the height as a function of time.\n",
    "\n",
    "Define the parameters:\n",
    "Input the constants: g, mass, \n",
    "Variables that can be asked as input from the user or entered\n",
    "Check the conditions:\n",
    "\n"
   ]
  },
  {
   "cell_type": "code",
   "execution_count": null,
   "metadata": {},
   "outputs": [],
   "source": [
    "import sys\n",
    "import numpy as np\n",
    "import matplotlib.pyplot as plt\n",
    "import math\n",
    "% matplotlib inline\n",
    "g=9.8\n",
    "v0=20.0\n",
    "#t=3.0\n",
    "\n",
    "def height(v0,t):    \n",
    "    y=v0*t-0.5*g*t**2\n",
    "    if y<0.0:\n",
    "        return 0.0\n",
    "    else:\n",
    "        return y\n",
    "h=[]   \n",
    "time=[]\n",
    "for t in np.arange(0.0,10.0,0.05): \n",
    "    time.append(t)\n",
    "    h.append(height(v0,t))\n",
    "    #print h\n",
    "\n",
    "plt.plot( time, h, marker='o', linestyle='None')\n",
    "plt.xlabel('time (s)')\n",
    "plt.ylabel('Height (m)')\n",
    "plt.title('Vertically Launched Ball')\n",
    "plt.show()\n",
    "    "
   ]
  },
  {
   "cell_type": "markdown",
   "metadata": {},
   "source": [
    "## Task 2: 2D kinematics\n",
    "Ball launched with an initial velocity v0 at an angle $\\theta$. Plotting the trajectory as a function of time.\n",
    "\n",
    "To start describing the problem, we define the parameters: \n",
    "1. acceleration due to gravity (g),\n",
    "2. initial velocity (v0)\n",
    "3. initial angle ($\\theta$)\n",
    "\n",
    "calculate the x and y positions as function of time. So we create the following lists\n",
    "1. list to store the values of time $t$\n",
    "2. list to store the x-position, y position"
   ]
  },
  {
   "cell_type": "code",
   "execution_count": null,
   "metadata": {},
   "outputs": [],
   "source": [
    "import sys\n",
    "import numpy as np\n",
    "import matplotlib.pyplot as plt\n",
    "import math\n",
    "from mpl_toolkits import mplot3d\n",
    "% matplotlib inline\n",
    "\n",
    "g=9.8\n",
    "v0=10.0\n",
    "#t=3.0\n",
    "theta = 30.0/180*np.pi # convert to radians\n",
    "# To calculate multiple angles, we can set theta as an array\n",
    "#theta = np.arange(25,65,5)[None,:]/180.0*np.pi #convert to radians,\n",
    "def R(v0,theta,t): \n",
    "    vx=v0*np.cos(theta)\n",
    "    vy=v0*np.sin(theta)\n",
    "    y=vy*t-0.5*g*t**2\n",
    "    x=vx*t\n",
    "    if y<0.0:\n",
    "        return (0.0, 0.0)\n",
    "    else:\n",
    "        return (x, y)\n",
    "    \n",
    "\n",
    "#range(10.0,30.0,0.2)\n",
    "hx=[] \n",
    "hy=[]\n",
    "time=[]\n",
    "\n",
    "for t in np.arange(0.0,10.0,0.05): \n",
    "    time.append(t)\n",
    "    hx.append(R(v0,theta,t)[0])\n",
    "    hy.append(R(v0,theta,t)[1])\n",
    "#print time\n",
    "#print hy    \n",
    "# 3D plot with time as the x-axis \n",
    "fig=plt.figure()\n",
    "ax = fig.add_subplot(111, projection='3d')\n",
    "ax.scatter(time,hx,hy,c=hy)\n",
    "plt.show()\n",
    "# 2D plot of the x and y positions as function of time and for a single theta\n",
    "plt.plot( hx,hy, marker='o', linestyle='None')\n",
    "plt.xlabel('x')\n",
    "plt.ylabel('Height (m)')\n",
    "plt.title('2D projectile')\n",
    "plt.show()"
   ]
  },
  {
   "cell_type": "markdown",
   "metadata": {},
   "source": [
    "#### The above two tasks were based on knowing the analytical solutions for the 1D and 2D projectile motion.\n",
    "#### We can also check the solutions by working through the Euler's method of updating the time, velocity and the displacements at every time step \"dt\". This is similar to how you worked the VPython exercise of orbits. We simulate the trajectory and also calculate the theory and compare the two.\n",
    "\n",
    "__Setup__: The object will start at x=0, y=0 at t=0 and will be launched horizontally at an angle $\\theta$. The analytical value of the maximum horizontal displacement is given by \n",
    "$$d=(\\frac{v^2}{2g}) sin(2\\theta)$$. Let us calculate this by updating the velocity at each time step and compare the values.\n",
    "\n",
    "### Euler method for doing integration of velocity to get displacements instead of using the formulas. \n",
    "$$ v_x(t_{n}) = \\frac{dx(t_{n})}{dt} \\approx \\frac{x(t_{n+1}) - x(t_n)}{\\Delta t} \n",
    "   \\qquad \\text{and} \\qquad \n",
    "   v_y(t_{n}) = \\frac{dy(t_{n})}{dt} \\approx \\frac{y(t_{n+1}) - y(t_n)}{\\Delta t}\n",
    "$$\n",
    "\n",
    "or \n",
    "\n",
    "$$ x(t_{n+1}) \\approx x(t_n) +  v_x(t_n) \\Delta t \n",
    "   \\qquad \\text{and} \\qquad \n",
    "   y(t_{n+1}) \\approx y(t_n) +  v_y(t_n) \\Delta t \n",
    "$$\n",
    "\n",
    "Starting with $x=0$ and $y=0$ at $t=0$, we can use Euler's method to get the positions and set a counter for calculating the range for different $\\Delta$t values\n",
    "\n",
    "\n",
    "See that we need small time steps for improving the match between theory and simulation.\n"
   ]
  },
  {
   "cell_type": "markdown",
   "metadata": {},
   "source": []
  },
  {
   "cell_type": "code",
   "execution_count": 8,
   "metadata": {},
   "outputs": [
    {
     "name": "stdout",
     "output_type": "stream",
     "text": [
      "80 1.0471975512\n",
      "Range of projectile by simulation 572.0000000000001\n",
      "Range of projectile by theory  566.0\n"
     ]
    },
    {
     "data": {
      "image/png": "[encoded data removed]",
      "text/plain": [
       "<Figure size 432x288 with 1 Axes>"
      ]
     },
     "metadata": {
      "needs_background": "light"
     },
     "output_type": "display_data"
    }
   ],
   "source": [
    "import numpy as np\n",
    "import matplotlib.pyplot as plt\n",
    "% matplotlib inline\n",
    "\n",
    "# constants\n",
    "mass = 1.0          # Mass of projectile in kg\n",
    "g = 9.8          # Acceleration due to gravity (m/s^2)\n",
    "V = 80           # Initial velocity in m/s\n",
    "angle = 60.0       # Angle of initial velocity in degrees\n",
    "#Cd = 0.0       # Drag coefficient =0.0 no air resistance\n",
    "#dt = 0.5         # time step in s\n",
    "\n",
    "theta=angle*np.pi/180.\n",
    "vx = [V*np.cos(theta)]  # x and y components of velocity arrays\n",
    "vy = [V*np.sin(theta)]\n",
    "x = [0]\n",
    "y = [0]\n",
    "dt=0.1\n",
    "# Note that in this case, ax=0.0, and ay=-g (constant) So no need to append the acceleration\n",
    "\n",
    "print V, theta # just for debugging\n",
    "\n",
    "# Set up the lists to store variables\n",
    "# Initialize the velocity and position at t=0\n",
    "t = [0.0]  # time array\n",
    "\n",
    "ctr=0\n",
    "while y[ctr] >= 0:\n",
    "        #print ctr\n",
    "        y.append(y[ctr] + vy[ctr]*dt)\n",
    "        vy.append(vy[ctr] - g*dt )\n",
    "        x.append(x[ctr] + vx[ctr]*dt)\n",
    "        vx.append( vx[ctr])\n",
    "        t.append(t[ctr]+dt)\n",
    "        ctr=ctr+1\n",
    "\n",
    "# Let's plot the trajectory\n",
    "plt.plot(x,y,'ro')\n",
    "plt.ylabel(\"y (m)\")\n",
    "plt.xlabel(\"x (m)\")\n",
    "print \"Range of projectile by simulation\", (x[ctr])\n",
    "print \"Range of projectile by theory \",round((V**2/g)*mass*np.sin(2*theta))\n",
    "   \n",
    "# The last value of x should give the maximum horizontal distance and we can compare \n",
    "#it to the analytical value\n",
    "\n",
    "#print \"horizontal displacement by simulation is {:3.1f} m\".format(x[counter])\n",
    "#print('horizontal displacement by theory = ', round((V**2/g)*mass*np.sin(2*theta),6))"
   ]
  },
  {
   "cell_type": "markdown",
   "metadata": {},
   "source": [
    "#### The above code can be easily modified to include air-resistance. The analytical solution is not straigtforward if we include a drag or damping force. $a_x$ is not equal to zero."
   ]
  },
  {
   "cell_type": "code",
   "execution_count": null,
   "metadata": {},
   "outputs": [],
   "source": []
  }
 ],
 "metadata": {
  "kernelspec": {
   "display_name": "Python 2",
   "language": "python",
   "name": "python2"
  },
  "language_info": {
   "codemirror_mode": {
    "name": "ipython",
    "version": 2
   },
   "file_extension": ".py",
   "mimetype": "text/x-python",
   "name": "python",
   "nbconvert_exporter": "python",
   "pygments_lexer": "ipython2",
   "version": "2.7.15"
  }
 },
 "nbformat": 4,
 "nbformat_minor": 2
}
